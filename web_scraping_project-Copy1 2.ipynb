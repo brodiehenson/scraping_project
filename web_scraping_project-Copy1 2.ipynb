{
 "cells": [
  {
   "cell_type": "code",
   "execution_count": 1,
   "id": "0d0ab9ce-f685-417f-99b5-3e0d0c8c7000",
   "metadata": {},
   "outputs": [],
   "source": [
    "import requests\n",
    "from bs4 import BeautifulSoup\n",
    "import csv\n",
    "import time"
   ]
  },
  {
   "cell_type": "code",
   "execution_count": 2,
   "id": "57c2ce0f-abfa-4dad-9425-4f21baca83fc",
   "metadata": {},
   "outputs": [
    {
     "name": "stdout",
     "output_type": "stream",
     "text": [
      "[<a class=\"dropdown-item dropdown-state\" href=\"/state/al/index.htm\">\n",
      "Alabama\n",
      "</a>, <a class=\"dropdown-item dropdown-state\" href=\"/state/ak/index.htm\">\n",
      "Alaska\n",
      "</a>, <a class=\"dropdown-item dropdown-state\" href=\"/state/as/index.htm\">\n",
      "American Samoa\n",
      "</a>, <a class=\"dropdown-item dropdown-state\" href=\"/state/az/index.htm\">\n",
      "Arizona\n",
      "</a>, <a class=\"dropdown-item dropdown-state\" href=\"/state/ar/index.htm\">\n",
      "Arkansas\n",
      "</a>]\n"
     ]
    }
   ],
   "source": [
    "page = requests.get(\"https://www.nps.gov/index.htm\")\n",
    "soup = BeautifulSoup(page.text, \"html.parser\")\n",
    "parks_list = soup.find_all('a', class_='dropdown-state')\n",
    "\n",
    "# print only the first 5 things in the list\n",
    "print(parks_list[:5])"
   ]
  },
  {
   "cell_type": "code",
   "execution_count": 3,
   "id": "47b936c6-da82-4467-bd8b-a07a1c4f3c67",
   "metadata": {},
   "outputs": [
    {
     "name": "stdout",
     "output_type": "stream",
     "text": [
      "https://www.nps.gov/state/al/index.htm\n",
      "https://www.nps.gov/state/ak/index.htm\n",
      "https://www.nps.gov/state/as/index.htm\n",
      "https://www.nps.gov/state/az/index.htm\n",
      "https://www.nps.gov/state/ar/index.htm\n",
      "https://www.nps.gov/state/ca/index.htm\n",
      "https://www.nps.gov/state/co/index.htm\n",
      "https://www.nps.gov/state/ct/index.htm\n",
      "https://www.nps.gov/state/de/index.htm\n",
      "https://www.nps.gov/state/dc/index.htm\n"
     ]
    }
   ],
   "source": [
    "# this is a test\n",
    "for x in parks_list[:10]:\n",
    "    url = 'https://www.nps.gov' + x.attrs['href']\n",
    "    print(url)"
   ]
  },
  {
   "cell_type": "code",
   "execution_count": 22,
   "id": "4ae9bc76-cd31-4008-90ef-3b65cab2066b",
   "metadata": {},
   "outputs": [
    {
     "ename": "TypeError",
     "evalue": "'str' object is not callable",
     "output_type": "error",
     "traceback": [
      "\u001b[31m---------------------------------------------------------------------------\u001b[39m",
      "\u001b[31mTypeError\u001b[39m                                 Traceback (most recent call last)",
      "\u001b[36mCell\u001b[39m\u001b[36m \u001b[39m\u001b[32mIn[22]\u001b[39m\u001b[32m, line 16\u001b[39m\n\u001b[32m      9\u001b[39m \u001b[38;5;66;03m# print(soup.find('h3').find('a').get_text())\u001b[39;00m\n\u001b[32m     10\u001b[39m \u001b[38;5;66;03m# a_tag = x.find('h3').find(\"a\")\u001b[39;00m\n\u001b[32m     11\u001b[39m \u001b[38;5;66;03m# print(a_tag.attrs['href'])\u001b[39;00m\n\u001b[32m     12\u001b[39m \u001b[38;5;66;03m# park_state = x.find('p', class_='list_left__subtitle').get_text()\u001b[39;00m\n\u001b[32m     15\u001b[39m \u001b[38;5;28;01mfor\u001b[39;00m x \u001b[38;5;129;01min\u001b[39;00m parks_list[:\u001b[32m1\u001b[39m]:\n\u001b[32m---> \u001b[39m\u001b[32m16\u001b[39m     park_name = \u001b[43msoup\u001b[49m\u001b[43m.\u001b[49m\u001b[43mfind\u001b[49m\u001b[43m(\u001b[49m\u001b[33;43m'\u001b[39;49m\u001b[33;43mh3\u001b[39;49m\u001b[33;43m'\u001b[39;49m\u001b[43m)\u001b[49m\u001b[43m.\u001b[49m\u001b[43mfind\u001b[49m\u001b[43m(\u001b[49m\u001b[33;43m'\u001b[39;49m\u001b[33;43ma\u001b[39;49m\u001b[33;43m'\u001b[39;49m\u001b[43m)\u001b[49m\u001b[43m.\u001b[49m\u001b[43mtext\u001b[49m\u001b[43m(\u001b[49m\u001b[43m)\u001b[49m\n\u001b[32m     17\u001b[39m     \u001b[38;5;66;03m# park_name = soup.find('h1', class_='page-title').get_text()\u001b[39;00m\n\u001b[32m     18\u001b[39m     \u001b[38;5;66;03m# a_tag = soup.find('h3').find(\"a\")\u001b[39;00m\n\u001b[32m     19\u001b[39m     \u001b[38;5;66;03m# park_url = a_tag.attrs['href']\u001b[39;00m\n\u001b[32m     20\u001b[39m     \u001b[38;5;66;03m# park_type = x.find('p', class_='list_left__kicker').get_text()\u001b[39;00m\n\u001b[32m     21\u001b[39m     \u001b[38;5;66;03m# park_city = x.find('p', class_='list_left__subtitle').get_text()\u001b[39;00m\n\u001b[32m     22\u001b[39m     \u001b[38;5;66;03m# park_state = x.find('h1', class_='page-title') \u001b[39;00m\n\u001b[32m     23\u001b[39m \u001b[38;5;28mprint\u001b[39m(parks_list)\n",
      "\u001b[31mTypeError\u001b[39m: 'str' object is not callable"
     ]
    }
   ],
   "source": [
    "# open one state page and try to scrape it here as a test\n",
    "# https://www.nps.gov/state/ca/index.htm\n",
    "\n",
    "\n",
    "url = 'https://www.nps.gov/state/ca/index.htm'\n",
    "page = requests.get(url)\n",
    "soup = BeautifulSoup(page.text, 'html.parser')\n",
    "\n",
    "# print(soup.find('h3').find('a').get_text())\n",
    "# a_tag = x.find('h3').find(\"a\")\n",
    "# print(a_tag.attrs['href'])\n",
    "# park_state = x.find('p', class_='list_left__subtitle').get_text()\n",
    "\n",
    "\n",
    "for x in parks_list[:1]:\n",
    "    park_name = soup.find('h3').find('a').text()\n",
    "    # park_name = soup.find('h1', class_='page-title').get_text()\n",
    "    # a_tag = soup.find('h3').find(\"a\")\n",
    "    # park_url = a_tag.attrs['href']\n",
    "    # park_type = x.find('p', class_='list_left__kicker').get_text()\n",
    "    # park_city = x.find('p', class_='list_left__subtitle').get_text()\n",
    "    # park_state = x.find('h1', class_='page-title') \n",
    "print(parks_list)"
   ]
  },
  {
   "cell_type": "code",
   "execution_count": 28,
   "id": "3b4461f3-aa8c-45db-97d7-c97a72d7bd9c",
   "metadata": {},
   "outputs": [
    {
     "ename": "KeyError",
     "evalue": "'href'",
     "output_type": "error",
     "traceback": [
      "\u001b[31m---------------------------------------------------------------------------\u001b[39m",
      "\u001b[31mKeyError\u001b[39m                                  Traceback (most recent call last)",
      "\u001b[36mCell\u001b[39m\u001b[36m \u001b[39m\u001b[32mIn[28]\u001b[39m\u001b[32m, line 6\u001b[39m\n\u001b[32m      1\u001b[39m \u001b[38;5;66;03m# this is a closet full of code to steal \u001b[39;00m\n\u001b[32m      2\u001b[39m \n\u001b[32m      3\u001b[39m \u001b[38;5;66;03m# Make sure to change [0:1] below!!!\u001b[39;00m\n\u001b[32m      5\u001b[39m \u001b[38;5;28;01mfor\u001b[39;00m x \u001b[38;5;129;01min\u001b[39;00m parks_list[\u001b[32m0\u001b[39m:\u001b[32m1\u001b[39m]:\n\u001b[32m----> \u001b[39m\u001b[32m6\u001b[39m     url = \u001b[33m'\u001b[39m\u001b[33mhttps://www.nps.gov\u001b[39m\u001b[33m'\u001b[39m + \u001b[43mx\u001b[49m\u001b[43m.\u001b[49m\u001b[43mattrs\u001b[49m\u001b[43m[\u001b[49m\u001b[33;43m'\u001b[39;49m\u001b[33;43mhref\u001b[39;49m\u001b[33;43m'\u001b[39;49m\u001b[43m]\u001b[49m\n\u001b[32m      7\u001b[39m     page = requests.get(url)\n\u001b[32m      8\u001b[39m     soup = BeautifulSoup(page.text, \u001b[33m\"\u001b[39m\u001b[33mhtml.parser\u001b[39m\u001b[33m\"\u001b[39m)\n",
      "\u001b[31mKeyError\u001b[39m: 'href'"
     ]
    }
   ],
   "source": [
    "# this is a closet full of code to steal \n",
    "\n",
    "# Make sure to change [0:1] below!!!\n",
    "\n",
    "for x in parks_list[0:1]:\n",
    "    url = 'https://www.nps.gov' + x.attrs['href']\n",
    "    page = requests.get(url)\n",
    "    soup = BeautifulSoup(page.text, \"html.parser\")\n",
    "\n",
    "    # Delete print statements below!!!\n",
    "    \n",
    "    print(soup.find('h3').find('a').get_text())\n",
    "    \n",
    "    park_state = soup.find('h1', class_='page-title').get_text()\n",
    "    park_type = soup.find('p', class_='list_left__kicker').get_text()\n",
    "    park_name = soup.find('h3').find('a').get_text()\n",
    "   \n",
    "    # Delete print statements below!!!\n",
    "    \n",
    "    parks = soup.find('ul', id='list_parks')\n",
    "    details_list = parks.find_all('li')\n",
    "    for x in details_list:\n",
    "        try:\n",
    "            park_name = x.find('h3').find('a').get_text()\n",
    "            a_tag = x.find('h3').find(\"a\")\n",
    "            park_name = a_tag.text\n",
    "            park_url = a_tag.attrs['href']\n",
    "            park_type = x.find('p', class_='list_left__kicker').get_text()\n",
    "            park_city = ''\n",
    "            park_state = x.find('p', class_='list_left__subtitle').get_text()\n",
    "        except:\n",
    "            pass\n",
    "    print(details_list)"
   ]
  },
  {
   "cell_type": "code",
   "execution_count": null,
   "id": "5b6822b6-83aa-4a27-a715-c90ac56d7c40",
   "metadata": {},
   "outputs": [],
   "source": [
    "# park name, url, designation, location, state\n",
    "# alacatraz island, '/alca/', n/a, san francisco, CA, California"
   ]
  }
 ],
 "metadata": {
  "kernelspec": {
   "display_name": "Python 3 (ipykernel)",
   "language": "python",
   "name": "python3"
  },
  "language_info": {
   "codemirror_mode": {
    "name": "ipython",
    "version": 3
   },
   "file_extension": ".py",
   "mimetype": "text/x-python",
   "name": "python",
   "nbconvert_exporter": "python",
   "pygments_lexer": "ipython3",
   "version": "3.13.2"
  }
 },
 "nbformat": 4,
 "nbformat_minor": 5
}
